{
 "cells": [
  {
   "cell_type": "code",
   "execution_count": 1,
   "id": "efa38467",
   "metadata": {},
   "outputs": [],
   "source": [
    "machines = (1,2,3,4)\n",
    "products = (1,2,3)\n",
    "\n",
    "# Sequence: {Product: [Machine i, Machine j, ...]}\n",
    "seq = {1:[1,3,4], 2:[1,2,4], 3:[2,3]}"
   ]
  },
  {
   "cell_type": "code",
   "execution_count": 2,
   "id": "313196fe",
   "metadata": {},
   "outputs": [],
   "source": [
    "#Time (product,machine)\n",
    "time = {(1,1): 30,\n",
    "        (1,3): 40,\n",
    "        (1,4): 20,\n",
    "        (2,1): 25,\n",
    "        (2,2): 25,\n",
    "        (2,4): 10,\n",
    "        (3,2): 10,\n",
    "        (3,3): 30}"
   ]
  },
  {
   "cell_type": "code",
   "execution_count": 3,
   "id": "57e70ecf",
   "metadata": {},
   "outputs": [],
   "source": [
    "from gurobipy import *"
   ]
  },
  {
   "cell_type": "code",
   "execution_count": 4,
   "id": "0e4821d6",
   "metadata": {},
   "outputs": [
    {
     "data": {
      "text/plain": [
       "[(1, 1), (1, 3), (1, 4), (2, 1), (2, 2), (2, 4), (3, 2), (3, 3)]"
      ]
     },
     "execution_count": 4,
     "metadata": {},
     "output_type": "execute_result"
    }
   ],
   "source": [
    "arcs = [(i,j) for i in products for j in seq[i]]\n",
    "arcs"
   ]
  },
  {
   "cell_type": "code",
   "execution_count": 5,
   "id": "ee9c4f54",
   "metadata": {},
   "outputs": [
    {
     "name": "stdout",
     "output_type": "stream",
     "text": [
      "Set parameter Username\n",
      "Academic license - for non-commercial use only - expires 2024-03-18\n",
      "Gurobi Optimizer version 10.0.1 build v10.0.1rc0 (win64)\n",
      "\n",
      "CPU model: Intel(R) Core(TM) i7-8565U CPU @ 1.80GHz, instruction set [SSE2|AVX|AVX2]\n",
      "Thread count: 4 physical cores, 8 logical processors, using up to 8 threads\n",
      "\n",
      "Optimize a model with 12 rows, 17 columns and 24 nonzeros\n",
      "Model fingerprint: 0xdf53e6f5\n",
      "Model has 8 general constraints\n",
      "Variable types: 0 continuous, 17 integer (8 binary)\n",
      "Coefficient statistics:\n",
      "  Matrix range     [1e+00, 1e+00]\n",
      "  Objective range  [1e+00, 1e+00]\n",
      "  Bounds range     [1e+00, 1e+00]\n",
      "  RHS range        [1e+00, 4e+01]\n",
      "  GenCon rhs range [1e+01, 4e+01]\n",
      "  GenCon coe range [1e+00, 1e+00]\n",
      "Presolve added 8 rows and 8 columns\n",
      "Presolve time: 0.00s\n",
      "Presolved: 20 rows, 25 columns, 48 nonzeros\n",
      "Presolved model has 8 SOS constraint(s)\n",
      "Variable types: 0 continuous, 25 integer (8 binary)\n",
      "Found heuristic solution: objective 100.0000000\n",
      "\n",
      "Explored 0 nodes (0 simplex iterations) in 0.02 seconds (0.00 work units)\n",
      "Thread count was 8 (of 8 available processors)\n",
      "\n",
      "Solution count 1: 100 \n",
      "\n",
      "Optimal solution found (tolerance 1.00e-04)\n",
      "Best objective 1.000000000000e+02, best bound 1.000000000000e+02, gap 0.0000%\n"
     ]
    }
   ],
   "source": [
    "#Creation of Model \n",
    "model = Model(\"JobShop\")\n",
    "\n",
    "x = model.addVars(arcs,vtype=GRB.INTEGER, name='x')\n",
    "opt = model.addVars(arcs,vtype=GRB.BINARY, name='opt')\n",
    "y = model.addVar(vtype=GRB.INTEGER, name='y')\n",
    "\n",
    "# Work sequences\n",
    "\n",
    "# Product 1 - Sequence:\n",
    "model.addConstr(x[1,1]+time[1,1] <= x[1,3])\n",
    "model.addConstr(x[1,3]+time[1,3] <= x[1,4])\n",
    "\n",
    "# Product 2 - Sequence:\n",
    "model.addConstr(x[2,1]+time[2,1] <= x[2,2])\n",
    "model.addConstr(x[2,2]+time[2,2] <= x[2,4])\n",
    "\n",
    "# Product 3 - Sequence:\n",
    "model.addConstr(x[3,2]+time[3,2] <= x[3,3])\n",
    "\n",
    "# Machine 1\n",
    "model.addConstr((opt[1,1]==1) >> (x[1,1]+time[1,1] <= x[2,1]))\n",
    "model.addConstr((opt[2,1]==1) >> (x[2,1]+time[2,1] <= x[1,1]))\n",
    "model.addConstr(opt[1,1]+opt[2,1]==1)\n",
    "\n",
    "# Machine 2\n",
    "model.addConstr((opt[2,2]==1) >> (x[2,2]+time[2,2] <= x[3,2]))\n",
    "model.addConstr((opt[3,2]==1) >> (x[3,2]+time[3,2] <= x[2,2]))\n",
    "model.addConstr(opt[2,2]+opt[3,2]==1)\n",
    "\n",
    "# Machine 3\n",
    "model.addConstr((opt[1,3]==1) >> (x[1,3]+time[1,3] <= x[3,3]))\n",
    "model.addConstr((opt[3,3]==1) >> (x[3,3]+time[3,3] <= x[1,3]))\n",
    "model.addConstr(opt[1,3]+opt[3,3]==1)\n",
    "\n",
    "# Machine 4\n",
    "model.addConstr((opt[1,4]==1) >> (x[1,4]+time[1,4] <= x[2,4]))\n",
    "model.addConstr((opt[2,4]==1) >> (x[2,4]+time[2,4] <= x[1,4]))\n",
    "model.addConstr(opt[1,4]+opt[2,4]==1)\n",
    "\n",
    "# Minimize the makespan\n",
    "model.addConstr(y>= x[1,4]+time[1,4])\n",
    "model.addConstr(y>= x[2,4]+time[2,4])\n",
    "model.addConstr(y>= x[3,3]+time[3,3])\n",
    "\n",
    "model.setObjective(y,GRB.MINIMIZE)\n",
    "\n",
    "model.optimize()"
   ]
  },
  {
   "cell_type": "code",
   "execution_count": 6,
   "id": "d1244ca8",
   "metadata": {},
   "outputs": [
    {
     "data": {
      "text/plain": [
       "{(1, 1): -0.0,\n",
       " (1, 3): 30.0,\n",
       " (1, 4): 70.0,\n",
       " (2, 1): 30.0,\n",
       " (2, 2): 55.0,\n",
       " (2, 4): 90.0,\n",
       " (3, 2): -0.0,\n",
       " (3, 3): 70.0}"
      ]
     },
     "execution_count": 6,
     "metadata": {},
     "output_type": "execute_result"
    }
   ],
   "source": [
    "#Obtain the solution\n",
    "solution = dict()\n",
    "for i,j in arcs:\n",
    "    solution[i,j]=x[i,j].x\n",
    "solution"
   ]
  },
  {
   "cell_type": "code",
   "execution_count": 9,
   "id": "a84fb8ee",
   "metadata": {},
   "outputs": [
    {
     "data": {
      "image/png": "[encoded data removed]",
      "text/plain": [
       "<Figure size 662.4x360 with 1 Axes>"
      ]
     },
     "metadata": {},
     "output_type": "display_data"
    }
   ],
   "source": [
    "import numpy as np\n",
    "import matplotlib.pyplot as plt\n",
    "import seaborn as sns\n",
    "import matplotlib.patches as mpatches\n",
    "\n",
    "schedule_1 = ['M1','M3','M4']\n",
    "color_1 = ['#ffc40d','#b91d47','#99b433']\n",
    "\n",
    "schedule_2 = ['M1','M2','M4']\n",
    "color_2 = ['#ffc40d','#2d89ef','#99b433']\n",
    "\n",
    "schedule_3 = ['M2','M3']\n",
    "color_3 = ['#2d89ef','#b91d47']\n",
    "\n",
    "results_1 = {'Product 1':[30,70,90]}\n",
    "width_1 = [30,40,20]\n",
    "starts_1 = [0,30,70]\n",
    "\n",
    "results_2 = {'Product 2':[55,80,100]}\n",
    "width_2 = [25,25,10]\n",
    "starts_2 = [30,55,90]\n",
    "\n",
    "results_3 = {'Product 3':[10,100]}\n",
    "width_3 = [10,30]\n",
    "starts_3 = [0,70]\n",
    "\n",
    "fig, ax = plt.subplots(figsize=(9.2,5))\n",
    "\n",
    "sns.set_style(\"darkgrid\")\n",
    "\n",
    "labels=list(results_1.keys())\n",
    "colname=schedule_1\n",
    "ax.barh(labels,width_1,left=starts_1,height=0.5,label=colname,color=color_1)\n",
    "\n",
    "labels=list(results_2.keys())\n",
    "colname=schedule_2\n",
    "ax.barh(labels,width_2,left=starts_2,height=0.5,label=colname,color=color_2)\n",
    "\n",
    "labels=list(results_3.keys())\n",
    "colname=schedule_3\n",
    "ax.barh(labels,width_3,left=starts_3,height=0.5,label=colname,color=color_3)\n",
    "\n",
    "red_patch = mpatches.Patch(color='#b91d47',label='Machine 3')\n",
    "blue_patch = mpatches.Patch(color='#2d89ef',label='Machine 2')\n",
    "yellow_patch = mpatches.Patch(color='#ffc40d',label='Machine 1')\n",
    "green_patch = mpatches.Patch(color='#99b433',label='Machine 4')\n",
    "\n",
    "plt.legend(handles=[yellow_patch,blue_patch,red_patch,green_patch])\n",
    "\n",
    "major_ticks = np.arange(0,120,10)\n",
    "ax.set_xticks(major_ticks)\n",
    "plt.grid(which='major',axis='x',alpha=1)\n",
    "\n",
    "plt.show()"
   ]
  },
  {
   "cell_type": "code",
   "execution_count": null,
   "id": "eca34372",
   "metadata": {},
   "outputs": [],
   "source": []
  }
 ],
 "metadata": {
  "kernelspec": {
   "display_name": "Python 3 (ipykernel)",
   "language": "python",
   "name": "python3"
  },
  "language_info": {
   "codemirror_mode": {
    "name": "ipython",
    "version": 3
   },
   "file_extension": ".py",
   "mimetype": "text/x-python",
   "name": "python",
   "nbconvert_exporter": "python",
   "pygments_lexer": "ipython3",
   "version": "3.7.9"
  }
 },
 "nbformat": 4,
 "nbformat_minor": 5
}
