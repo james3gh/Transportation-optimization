{
 "cells": [
  {
   "cell_type": "code",
   "execution_count": 1,
   "id": "537105e5",
   "metadata": {},
   "outputs": [],
   "source": [
    "from gurobipy import *\n",
    "import numpy as np\n",
    "import matplotlib.pyplot as plt"
   ]
  },
  {
   "cell_type": "code",
   "execution_count": 2,
   "id": "e998b15c",
   "metadata": {},
   "outputs": [],
   "source": [
    "n = 21\n",
    "nodes = [i for i in range(n)]"
   ]
  },
  {
   "cell_type": "code",
   "execution_count": 3,
   "id": "5b49c44e",
   "metadata": {},
   "outputs": [],
   "source": [
    "arcs = [(i,j) for i in nodes for j in nodes if i!=j]"
   ]
  },
  {
   "cell_type": "code",
   "execution_count": 4,
   "id": "e5903db7",
   "metadata": {},
   "outputs": [],
   "source": [
    "np.random.seed(0)\n",
    "\n",
    "X = np.random.random(n)*100\n",
    "Y = np.random.random(n)*100"
   ]
  },
  {
   "cell_type": "code",
   "execution_count": 5,
   "id": "473a41c2",
   "metadata": {},
   "outputs": [],
   "source": [
    "distance = {(i,j): np.hypot(X[i]-X[j],Y[i]-Y[j]) for i in nodes for j in nodes if i!=j}                  "
   ]
  },
  {
   "cell_type": "code",
   "execution_count": 6,
   "id": "b960fd30",
   "metadata": {},
   "outputs": [
    {
     "data": {
      "image/png": "[encoded data removed]",
      "text/plain": [
       "<Figure size 864x360 with 1 Axes>"
      ]
     },
     "metadata": {
      "needs_background": "light"
     },
     "output_type": "display_data"
    }
   ],
   "source": [
    "plt.figure(figsize=(12,5))\n",
    "plt.scatter(X,Y,color='blue')\n",
    "\n",
    "for n in range(len(X)):\n",
    "    plt.annotate(str(n), xy=(X[n],Y[n] ),\n",
    "                xytext=(X[n]+0.5,Y[n]+1), color='red')\n",
    "    \n",
    "plt.xlabel('Distance X')\n",
    "plt.ylabel('Distance Y')\n",
    "plt.title(\"TSP problem\")\n",
    "\n",
    "plt.show()"
   ]
  },
  {
   "cell_type": "code",
   "execution_count": 7,
   "id": "0671e9e7",
   "metadata": {},
   "outputs": [
    {
     "name": "stdout",
     "output_type": "stream",
     "text": [
      "Set parameter Username\n",
      "Academic license - for non-commercial use only - expires 2024-03-18\n",
      "Gurobi Optimizer version 10.0.1 build v10.0.1rc0 (win64)\n",
      "\n",
      "CPU model: Intel(R) Core(TM) i7-8565U CPU @ 1.80GHz, instruction set [SSE2|AVX|AVX2]\n",
      "Thread count: 4 physical cores, 8 logical processors, using up to 8 threads\n",
      "\n",
      "Optimize a model with 42 rows, 441 columns and 840 nonzeros\n",
      "Model fingerprint: 0xb0a32981\n",
      "Model has 400 general constraints\n",
      "Variable types: 21 continuous, 420 integer (420 binary)\n",
      "Coefficient statistics:\n",
      "  Matrix range     [1e+00, 1e+00]\n",
      "  Objective range  [2e+00, 1e+02]\n",
      "  Bounds range     [1e+00, 1e+00]\n",
      "  RHS range        [1e+00, 1e+00]\n",
      "  GenCon rhs range [1e+00, 1e+00]\n",
      "  GenCon coe range [1e+00, 1e+00]\n",
      "Presolve added 400 rows and 400 columns\n",
      "Presolve time: 0.08s\n",
      "Presolved: 442 rows, 841 columns, 1850 nonzeros\n",
      "Presolved model has 400 SOS constraint(s)\n",
      "Variable types: 421 continuous, 420 integer (420 binary)\n",
      "\n",
      "Root relaxation: objective 3.267793e+02, 78 iterations, 0.00 seconds (0.00 work units)\n",
      "\n",
      "    Nodes    |    Current Node    |     Objective Bounds      |     Work\n",
      " Expl Unexpl |  Obj  Depth IntInf | Incumbent    BestBd   Gap | It/Node Time\n",
      "\n",
      "     0     0  326.77933    0   20          -  326.77933      -     -    0s\n",
      "     0     0  326.77933    0   20          -  326.77933      -     -    0s\n",
      "     0     2  330.71686    0   20          -  330.71686      -     -    0s\n",
      "H   26    26                     625.2050005  330.71686  47.1%   1.4    0s\n",
      "H   35    34                     596.9338475  330.71686  44.6%   1.3    0s\n",
      "*  198   152              29     545.6204192  330.71686  39.4%   1.7    0s\n",
      "*  200   152              29     545.2624261  330.71686  39.3%   1.7    0s\n",
      "*  228   152              26     478.0245416  330.71686  30.8%   1.6    0s\n",
      "*  230   152              27     476.6279840  330.71686  30.6%   1.6    0s\n",
      "*  453   294              27     445.4154134  330.71686  25.8%   1.5    0s\n",
      "H 1157   659                     425.8502264  330.71686  22.3%   1.6    0s\n",
      "H 1585   727                     398.4706745  330.71686  17.0%   1.6    0s\n",
      "H 1613   691                     390.3426267  330.71686  15.3%   1.6    0s\n",
      "* 6720  1791              37     389.2793413  339.21581  12.9%   1.5    1s\n",
      " 40788  8590  380.59856   30   11  389.27934  351.45080  9.72%   1.4    5s\n",
      " 104252 16208 infeasible   36       389.27934  359.15211  7.74%   1.4   10s\n",
      " 176360 21065 infeasible   34       389.27934  364.38617  6.39%   1.4   15s\n",
      " 246309 23292 infeasible   39       389.27934  368.10589  5.44%   1.4   20s\n",
      " 310778 22896 infeasible   32       389.27934  371.13651  4.66%   1.4   25s\n",
      " 362884 20226 infeasible   37       389.27934  373.73290  3.99%   1.4   30s\n",
      " 428899 14044 infeasible   26       389.27934  377.40814  3.05%   1.4   35s\n",
      " 497037   798 infeasible   31       389.27934  385.61523  0.94%   1.3   40s\n",
      "\n",
      "Explored 499771 nodes (666444 simplex iterations) in 40.18 seconds (9.53 work units)\n",
      "Thread count was 8 (of 8 available processors)\n",
      "\n",
      "Solution count 10: 389.279 390.343 398.471 ... 596.934\n",
      "\n",
      "Optimal solution found (tolerance 1.00e-04)\n",
      "Best objective 3.892793413468e+02, best bound 3.892793413468e+02, gap 0.0000%\n"
     ]
    }
   ],
   "source": [
    "model = Model('TSP1')\n",
    "\n",
    "x = model.addVars(arcs, vtype = GRB.BINARY, name='x')\n",
    "u = model.addVars(nodes, vtype = GRB.CONTINUOUS, name='u')\n",
    "\n",
    "model.setObjective(quicksum(distance[i]*x[i] for i in arcs), GRB.MINIMIZE)\n",
    "\n",
    "model.addConstrs(quicksum(x[i,j] for j in nodes if j!=i)==1 for i in nodes)\n",
    "model.addConstrs(quicksum(x[i,j] for i in nodes if j!=i)==1 for j in nodes)\n",
    "\n",
    "model.addConstrs((x[i,j]==1) >> (u[i]+1==u[j]) for i,j in arcs if j!=0)\n",
    "\n",
    "# model.Params.timelimit = 60\n",
    "# mode.Params.MIPGap = 0.1\n",
    "\n",
    "model.optimize()"
   ]
  },
  {
   "cell_type": "code",
   "execution_count": 8,
   "id": "488a04d2",
   "metadata": {},
   "outputs": [],
   "source": [
    "# print('function objective', str(round(model.ObjVal,2)))\n",
    "# for v in model.getVars():\n",
    "#     if v.x>0.9:\n",
    "#         print(str(v.VarName)+\"=\"+str(v.x))"
   ]
  },
  {
   "cell_type": "code",
   "execution_count": 9,
   "id": "0e48d72e",
   "metadata": {},
   "outputs": [],
   "source": [
    "arcs_active = [i for i in arcs if x[i].x > 0.9]"
   ]
  },
  {
   "cell_type": "code",
   "execution_count": 10,
   "id": "bb2326e6",
   "metadata": {},
   "outputs": [
    {
     "data": {
      "image/png": "[encoded data removed]",
      "text/plain": [
       "<Figure size 864x360 with 1 Axes>"
      ]
     },
     "metadata": {
      "needs_background": "light"
     },
     "output_type": "display_data"
    }
   ],
   "source": [
    "plt.figure(figsize=(12,5))\n",
    "plt.scatter(x=X,y=Y,color='blue',zorder=1)\n",
    "\n",
    "for i,j in arcs_active:\n",
    "    plt.plot([X[i],X[j]],[Y[i],Y[j]],\n",
    "                color='b', alpha=0.4, zorder=0)\n",
    "    \n",
    "for n in range(len(X)):\n",
    "    plt.annotate(str(n), xy=(X[n],Y[n] ),\n",
    "                xytext=(X[n]+0.5,Y[n]+1), color='red')\n",
    "    \n",
    "plt.xlabel('Distance X')\n",
    "plt.ylabel('Distance Y')\n",
    "plt.title(\"Solution for TSP\")\n",
    "\n",
    "plt.show()"
   ]
  },
  {
   "cell_type": "code",
   "execution_count": null,
   "id": "c81edb45",
   "metadata": {},
   "outputs": [],
   "source": []
  }
 ],
 "metadata": {
  "kernelspec": {
   "display_name": "Python 3 (ipykernel)",
   "language": "python",
   "name": "python3"
  },
  "language_info": {
   "codemirror_mode": {
    "name": "ipython",
    "version": 3
   },
   "file_extension": ".py",
   "mimetype": "text/x-python",
   "name": "python",
   "nbconvert_exporter": "python",
   "pygments_lexer": "ipython3",
   "version": "3.7.9"
  }
 },
 "nbformat": 4,
 "nbformat_minor": 5
}
