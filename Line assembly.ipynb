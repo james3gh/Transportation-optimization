{
 "cells": [
  {
   "cell_type": "code",
   "execution_count": 1,
   "id": "1a02bc21",
   "metadata": {},
   "outputs": [],
   "source": [
    "stations = [1,2,3,4,5]\n",
    "tasks = ['A','B','C','D','E']\n",
    "C=100\n",
    "\n",
    "seq = {'A':[], 'B':['A'], 'C':['A'], 'D':['C'], 'E':['B','D']}"
   ]
  },
  {
   "cell_type": "code",
   "execution_count": 2,
   "id": "eeb1e217",
   "metadata": {},
   "outputs": [],
   "source": [
    "time = {'A':40, 'B':75, 'C':50, 'D':35, 'E':80}"
   ]
  },
  {
   "cell_type": "code",
   "execution_count": 3,
   "id": "14483ff8",
   "metadata": {},
   "outputs": [],
   "source": [
    "from gurobipy import *"
   ]
  },
  {
   "cell_type": "code",
   "execution_count": 4,
   "id": "f13ddff5",
   "metadata": {},
   "outputs": [],
   "source": [
    "arcs = [(i,j) for i in tasks for j in stations]"
   ]
  },
  {
   "cell_type": "code",
   "execution_count": 5,
   "id": "64ce6ef1",
   "metadata": {},
   "outputs": [
    {
     "name": "stdout",
     "output_type": "stream",
     "text": [
      "Set parameter Username\n",
      "Academic license - for non-commercial use only - expires 2024-03-18\n",
      "Gurobi Optimizer version 10.0.1 build v10.0.1rc0 (win64)\n",
      "\n",
      "CPU model: Intel(R) Core(TM) i7-8565U CPU @ 1.80GHz, instruction set [SSE2|AVX|AVX2]\n",
      "Thread count: 4 physical cores, 8 logical processors, using up to 8 threads\n",
      "\n",
      "Optimize a model with 19 rows, 30 columns and 113 nonzeros\n",
      "Model fingerprint: 0x1626577e\n",
      "Variable types: 0 continuous, 30 integer (30 binary)\n",
      "Coefficient statistics:\n",
      "  Matrix range     [1e+00, 1e+02]\n",
      "  Objective range  [1e+00, 1e+00]\n",
      "  Bounds range     [1e+00, 1e+00]\n",
      "  RHS range        [1e+00, 1e+00]\n",
      "Presolve removed 14 rows and 24 columns\n",
      "Presolve time: 0.00s\n",
      "Presolved: 5 rows, 6 columns, 12 nonzeros\n",
      "Variable types: 0 continuous, 6 integer (6 binary)\n",
      "Found heuristic solution: objective 4.0000000\n",
      "\n",
      "Explored 0 nodes (0 simplex iterations) in 0.02 seconds (0.00 work units)\n",
      "Thread count was 8 (of 8 available processors)\n",
      "\n",
      "Solution count 1: 4 \n",
      "\n",
      "Optimal solution found (tolerance 1.00e-04)\n",
      "Best objective 4.000000000000e+00, best bound 4.000000000000e+00, gap 0.0000%\n"
     ]
    }
   ],
   "source": [
    "m = Model(\"Assembly line\")\n",
    "\n",
    "x = m.addVars(arcs, vtype=GRB.BINARY, name='x')\n",
    "y = m.addVars(stations, vtype=GRB.BINARY, name='y')\n",
    "\n",
    "m.setObjective(quicksum(y[j] for j in stations), GRB.MINIMIZE)\n",
    "\n",
    "m.addConstrs(quicksum(time[i]*x[i,j] for i in tasks)<=C*y[j] for j in stations)\n",
    "m.addConstrs(quicksum(x[i,j] for j in stations)==1 for i in tasks)\n",
    "m.addConstrs(y[j+1]<=y[j] for j in stations if j!=max(stations))\n",
    "\n",
    "m.addConstrs(quicksum(j*x[k,j] for j in stations) >= quicksum(j*x[i,j] for j in stations) for k in tasks for i in seq[k] if k!='A')\n",
    "\n",
    "m.optimize()"
   ]
  },
  {
   "cell_type": "code",
   "execution_count": 6,
   "id": "79ea31b3",
   "metadata": {},
   "outputs": [
    {
     "name": "stdout",
     "output_type": "stream",
     "text": [
      "Task A at the station 1\n",
      "Task C at the station 1\n",
      "Task D at the station 2\n",
      "Task B at the station 3\n",
      "Task E at the station 4\n"
     ]
    }
   ],
   "source": [
    "for j in stations:\n",
    "    if y[j].x !=0:\n",
    "        \n",
    "        for i in tasks:\n",
    "            if x[i,j].x !=0:\n",
    "              print(\"Task \"+str(i)+\" at the station \"+str(j))  "
   ]
  },
  {
   "cell_type": "code",
   "execution_count": null,
   "id": "2210ec71",
   "metadata": {},
   "outputs": [],
   "source": []
  }
 ],
 "metadata": {
  "kernelspec": {
   "display_name": "Python 3 (ipykernel)",
   "language": "python",
   "name": "python3"
  },
  "language_info": {
   "codemirror_mode": {
    "name": "ipython",
    "version": 3
   },
   "file_extension": ".py",
   "mimetype": "text/x-python",
   "name": "python",
   "nbconvert_exporter": "python",
   "pygments_lexer": "ipython3",
   "version": "3.7.9"
  }
 },
 "nbformat": 4,
 "nbformat_minor": 5
}
